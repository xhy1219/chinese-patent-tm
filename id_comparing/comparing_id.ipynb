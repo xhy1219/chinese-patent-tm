{
 "cells": [
  {
   "cell_type": "code",
   "execution_count": null,
   "metadata": {},
   "outputs": [],
   "source": [
    "import re\n",
    "#open file\n",
    "with open('EPO_CN_XML_list.txt','r',encoding='utf-8') as raw: \n",
    "    text = raw.read()\n",
    "#regular expression for id\n",
    "idlist=[]\n",
    "text = re.sub('[.]', '', text)\n",
    "reObj = re.compile('CN+\\d+\\w')\n",
    "idlist = reObj.findall(text)\n",
    "#write ids in a new file \n",
    "fileObject = open('EPO_id.txt', 'w')\n",
    "for element in idlist:\n",
    "\tfileObject.write(element)\n",
    "\tfileObject.write('\\n')\n",
    "fileObject.close()\n",
    "\n",
    "#open id files\n",
    "f = open(\"EPO_id.txt\", \"r\")\n",
    "file = open(\"chinese_patents_id.txt\", \"r\")\n",
    "\n",
    "#read id in lines\n",
    "CNKI_id=[]\n",
    "EPO_id=[] \n",
    "for line in f.readlines():                       \n",
    "    line = line.strip()\n",
    "    EPO_id.append(line)\n",
    "\n",
    "for line in file.readlines():                       \n",
    "    line = line.strip()\n",
    "    CNKI_id.append(line)\n",
    "\n",
    "#find intersection id of epo and cnki id\n",
    "intersection_id = list(set(EPO_id).intersection(set(CNKI_id)))\n",
    "#find difference id of cnki and intersection id\n",
    "difference_id = list(set(CNKI_id).difference(set(intersection_id)))\n",
    "\n",
    "#write difference id in a new file\n",
    "fileObject = open('difference_id.txt', 'w')\n",
    "for element in difference_id:\n",
    "\tfileObject.write(element)\n",
    "\tfileObject.write('\\n')\n",
    "fileObject.close()"
   ]
  }
 ],
 "metadata": {
  "kernelspec": {
   "display_name": "Python 3",
   "language": "python",
   "name": "python3"
  },
  "language_info": {
   "codemirror_mode": {
    "name": "ipython",
    "version": 3
   },
   "file_extension": ".py",
   "mimetype": "text/x-python",
   "name": "python",
   "nbconvert_exporter": "python",
   "pygments_lexer": "ipython3",
   "version": "3.7.0"
  }
 },
 "nbformat": 4,
 "nbformat_minor": 2
}
