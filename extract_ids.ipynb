{
 "cells": [
  {
   "cell_type": "code",
   "execution_count": 4,
   "metadata": {},
   "outputs": [],
   "source": [
    "import re\n",
    "#open file\n",
    "with open('CNKI-636757698033548750.txt','r',encoding='utf-8') as raw: \n",
    "    text = raw.read()\n",
    "#find ids \n",
    "idlist=[]\n",
    "reObj = re.compile('CN+\\d+\\w')\n",
    "idlist = reObj.findall(text)\n",
    "#write ids in a new file \n",
    "fileObject = open('result.txt', 'w')\n",
    "for element in idlist:\n",
    "\tfileObject.write(element)\n",
    "\tfileObject.write('\\n')\n",
    "fileObject.close()"
   ]
  },
  {
   "cell_type": "code",
   "execution_count": null,
   "metadata": {},
   "outputs": [],
   "source": []
  },
  {
   "cell_type": "code",
   "execution_count": null,
   "metadata": {},
   "outputs": [],
   "source": []
  }
 ],
 "metadata": {
  "kernelspec": {
   "display_name": "Python 3",
   "language": "python",
   "name": "python3"
  },
  "language_info": {
   "codemirror_mode": {
    "name": "ipython",
    "version": 3
   },
   "file_extension": ".py",
   "mimetype": "text/x-python",
   "name": "python",
   "nbconvert_exporter": "python",
   "pygments_lexer": "ipython3",
   "version": "3.7.0"
  }
 },
 "nbformat": 4,
 "nbformat_minor": 2
}
